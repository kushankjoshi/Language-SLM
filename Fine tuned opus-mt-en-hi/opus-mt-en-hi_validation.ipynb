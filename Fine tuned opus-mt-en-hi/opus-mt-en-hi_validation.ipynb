{
 "cells": [
  {
   "cell_type": "code",
   "execution_count": null,
   "metadata": {},
   "outputs": [],
   "source": [
    "from transformers import AutoTokenizer,TFAutoModelForSeq2SeqLM\n",
    "\n",
    "# Specify the path to your model directory\n",
    "model_path = r'C:\\Users\\kusha\\OneDrive\\Documents\\VSCode\\SLM en-hi\\model'\n",
    "model_checkpoint = \"Helsinki-NLP/opus-mt-en-hi\"\n",
    "# Load the model\n",
    "model = TFAutoModelForSeq2SeqLM.from_pretrained(model_path)\n",
    "tokenizer =  AutoTokenizer.from_pretrained(model_checkpoint)"
   ]
  },
  {
   "cell_type": "code",
   "execution_count": 22,
   "metadata": {},
   "outputs": [],
   "source": [
    "def chat_with_model(user_input):\n",
    "    # Add task-specific prefix if necessary\n",
    "    input_text =  user_input  # Opus models sometimes use language codes like this for multi-lingual support\n",
    "\n",
    "    # Tokenize the input text\n",
    "    inputs = tokenizer.encode(input_text, return_tensors=\"tf\")\n",
    "\n",
    "    # Generate a response from the model\n",
    "    outputs = model.generate(inputs, max_length=50, num_beams=4, early_stopping=True)\n",
    "\n",
    "    # Decode the generated text\n",
    "    response = tokenizer.decode(outputs[0], skip_special_tokens=True)\n",
    "\n",
    "    return response"
   ]
  },
  {
   "cell_type": "code",
   "execution_count": 23,
   "metadata": {},
   "outputs": [
    {
     "name": "stdout",
     "output_type": "stream",
     "text": [
      "Model's Response in Hindi: मैं डेटा इंजीनियर हूँ\n"
     ]
    }
   ],
   "source": [
    "# Example usage\n",
    "user_input = \"I am data engineer\"\n",
    "print(\"Model's Response in Hindi:\", chat_with_model(user_input))"
   ]
  }
 ],
 "metadata": {
  "kernelspec": {
   "display_name": "Python 3",
   "language": "python",
   "name": "python3"
  },
  "language_info": {
   "codemirror_mode": {
    "name": "ipython",
    "version": 3
   },
   "file_extension": ".py",
   "mimetype": "text/x-python",
   "name": "python",
   "nbconvert_exporter": "python",
   "pygments_lexer": "ipython3",
   "version": "3.11.4"
  }
 },
 "nbformat": 4,
 "nbformat_minor": 2
}
